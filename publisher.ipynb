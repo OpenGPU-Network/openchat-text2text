{
 "cells": [
  {
   "cell_type": "code",
   "execution_count": 1,
   "id": "12d97346",
   "metadata": {},
   "outputs": [],
   "source": [
    "from web3 import Web3\n",
    "\n",
    "from ogpu.client import ChainConfig, ChainId, publish_source, SourceInfo, ImageEnvironments, DeliveryMethod\n",
    "from ogpu.client.utils import publish_to_ipfs\n",
    "\n",
    "\n",
    "ChainConfig.set_chain(chain_id=ChainId.OGPU_TESTNET)"
   ]
  },
  {
   "cell_type": "markdown",
   "id": "d5d55b0c",
   "metadata": {},
   "source": [
    "## Publish Source"
   ]
  },
  {
   "cell_type": "code",
   "execution_count": 2,
   "id": "039d0862",
   "metadata": {},
   "outputs": [
    {
     "name": "stdout",
     "output_type": "stream",
     "text": [
      "Source published successfully at: 0x4F1477E0a1DA8340E964D01e32Dff302F3CB203A\n"
     ]
    }
   ],
   "source": [
    "source_info = SourceInfo(\n",
    "    name=\"OpenChat - text2text\",\n",
    "    description=\"The AI model that powers the text2text functionality of the OpenChat bot.\",\n",
    "    logoUrl=\"https://www.dextools.io/resources/tokens/logos/ether/0x067def80d66fb69c276e53b641f37ff7525162f6.png\",\n",
    "    imageEnvs= ImageEnvironments(\n",
    "        cpu=\"https://raw.githubusercontent.com/OpenGPU-Network/openchat-text2text/refs/heads/main/docker-compose/cpu.yml\",\n",
    "        nvidia=\"https://raw.githubusercontent.com/OpenGPU-Network/openchat-text2text/refs/heads/main/docker-compose/nvidia.yml\",\n",
    "        amd=\"https://raw.githubusercontent.com/OpenGPU-Network/openchat-text2text/refs/heads/main/docker-compose/amd.yml\"\n",
    "    ),\n",
    "    minPayment=Web3.to_wei(0.001, \"ether\"),\n",
    "    minAvailableLockup=Web3.to_wei(0, \"ether\"),\n",
    "    maxExpiryDuration=86400,  # 24 hour in seconds\n",
    "    deliveryMethod=DeliveryMethod.FIRST_RESPONSE,\n",
    ")\n",
    "\n",
    "source_address = publish_source(source_info)\n",
    "print(f\"Source published successfully at: {source_address}\")"
   ]
  },
  {
   "cell_type": "markdown",
   "id": "c469840f",
   "metadata": {},
   "source": [
    "## Publish Task"
   ]
  },
  {
   "cell_type": "code",
   "execution_count": 3,
   "id": "ac52b925",
   "metadata": {},
   "outputs": [],
   "source": [
    "from ogpu.client import TaskInfo, TaskInput, publish_task\n",
    "import time"
   ]
  },
  {
   "cell_type": "code",
   "execution_count": 13,
   "id": "4b9928a1",
   "metadata": {},
   "outputs": [
    {
     "data": {
      "text/plain": [
       "'0x0c7b7fCFaa7F9cC28dc8846444f7EED5545D82b9'"
      ]
     },
     "execution_count": 13,
     "metadata": {},
     "output_type": "execute_result"
    }
   ],
   "source": [
    "from models import InputData, Message\n",
    "\n",
    "input_data = InputData(\n",
    "    messages=[\n",
    "        Message(\n",
    "            role=\"user\",\n",
    "            content=\"What is the capital of France?\"\n",
    "        )\n",
    "    ]\n",
    ")\n",
    "\n",
    "task_config = TaskInput(\n",
    "    function_name=\"text2text\",\n",
    "    data=input_data\n",
    ")\n",
    "\n",
    "task_info = TaskInfo(\n",
    "    source= \"0x4F1477E0a1DA8340E964D01e32Dff302F3CB203A\",\n",
    "    config=task_config,\n",
    "    expiryTime=int(time.time()) + 600,\n",
    "    payment=Web3.to_wei(0.0035, \"ether\")\n",
    ")\n",
    "\n",
    "task_address = publish_task(task_info)\n",
    "task_address"
   ]
  },
  {
   "cell_type": "markdown",
   "id": "e7783911",
   "metadata": {},
   "source": [
    "## Get response"
   ]
  },
  {
   "cell_type": "code",
   "execution_count": null,
   "id": "e8028a01",
   "metadata": {},
   "outputs": [
    {
     "name": "stdout",
     "output_type": "stream",
     "text": [
      "Response Address: 0x9606Bb537433D78404e372044557E84bFadFEF04\n",
      "Provider: 0x42d71bb9fb2e208A4f21599b05dd02bE83Bbb73A\n",
      "Data: https://cipfs.ogpuscan.io/ipfs/QmSR4CBDxmvL9UJFQahBhMvURy5917TnTuAgjPZFdo2n4H\n",
      "Status: 1\n",
      "Confirmed: True\n",
      "-----------------------------\n"
     ]
    }
   ],
   "source": [
    "from ogpu.client import get_task_responses\n",
    "\n",
    "responses = get_task_responses(task_address)\n",
    "for response in responses:\n",
    "    print(f\"Response Address: {response.address}\")\n",
    "    print(f\"Provider: {response.provider}\")\n",
    "    print(f\"Data: {response.data}\")\n",
    "    print(f\"Status: {response.status}\")\n",
    "    print(f\"Confirmed: {response.confirmed}\")\n",
    "    print(\"-----------------------------\")\n"
   ]
  },
  {
   "cell_type": "code",
   "execution_count": null,
   "id": "cb867c69",
   "metadata": {},
   "outputs": [],
   "source": []
  }
 ],
 "metadata": {
  "kernelspec": {
   "display_name": "openchat-text2text",
   "language": "python",
   "name": "python3"
  },
  "language_info": {
   "codemirror_mode": {
    "name": "ipython",
    "version": 3
   },
   "file_extension": ".py",
   "mimetype": "text/x-python",
   "name": "python",
   "nbconvert_exporter": "python",
   "pygments_lexer": "ipython3",
   "version": "3.13.3"
  }
 },
 "nbformat": 4,
 "nbformat_minor": 5
}
